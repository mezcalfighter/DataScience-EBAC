{
 "cells": [
  {
   "cell_type": "code",
   "execution_count": 25,
   "id": "fad0dce1-3523-465b-9c74-1301849d831d",
   "metadata": {},
   "outputs": [
    {
     "name": "stdout",
     "output_type": "stream",
     "text": [
      "    C   D   E\n",
      "A  15  31  43\n",
      "B  38  17  11\n",
      "\n",
      "A    15\n",
      "B    38\n",
      "Name: C, dtype: int64\n",
      "\n",
      "    C   D\n",
      "A  15  31\n",
      "B  38  17\n",
      "\n",
      "Grab by line\n",
      "C    15\n",
      "D    31\n",
      "E    43\n",
      "Name: A, dtype: int64\n",
      "\n",
      "Grab by index\n",
      "C    38\n",
      "D    17\n",
      "E    11\n",
      "Name: B, dtype: int64\n"
     ]
    }
   ],
   "source": [
    "import pandas as pd\n",
    "import numpy as np\n",
    "\n",
    "arr_2 = np.random.randint(10,50, size=(2,3))\n",
    "df = pd.DataFrame(arr_2, [\"A\", \"B\"],[\"C\",\"D\",\"E\"])\n",
    "\n",
    "print(df)\n",
    "print()\n",
    "print(df[\"C\"])\n",
    "print()\n",
    "print(df[[\"C\",\"D\"]])\n",
    "print()\n",
    "print(\"Grab by line\")\n",
    "print(df.loc[\"A\"])\n",
    "print()\n",
    "print(\"Grab by index\")\n",
    "print(df.iloc[1])"
   ]
  },
  {
   "cell_type": "code",
   "execution_count": null,
   "id": "0b521247-7d20-4d08-afc2-2a3207950eb7",
   "metadata": {},
   "outputs": [],
   "source": []
  }
 ],
 "metadata": {
  "kernelspec": {
   "display_name": "Python 3 (ipykernel)",
   "language": "python",
   "name": "python3"
  },
  "language_info": {
   "codemirror_mode": {
    "name": "ipython",
    "version": 3
   },
   "file_extension": ".py",
   "mimetype": "text/x-python",
   "name": "python",
   "nbconvert_exporter": "python",
   "pygments_lexer": "ipython3",
   "version": "3.11.7"
  }
 },
 "nbformat": 4,
 "nbformat_minor": 5
}
