{
 "cells": [
  {
   "cell_type": "code",
   "execution_count": 15,
   "id": "afc3bf4c-4fd1-4162-9d70-4b50ad0750d3",
   "metadata": {},
   "outputs": [
    {
     "data": {
      "text/plain": [
       "0    1\n",
       "1    2\n",
       "2    3\n",
       "3    4\n",
       "dtype: int64"
      ]
     },
     "execution_count": 15,
     "metadata": {},
     "output_type": "execute_result"
    }
   ],
   "source": [
    "# Time 4:23 / 1:40:05\n",
    "\n",
    "import numpy as np\n",
    "import pandas as pd\n",
    "\n",
    "# Series\n",
    "list_1 = ['a','b','c','d']\n",
    "labels = [1,2,3,4]\n",
    "\n",
    "arr_1 = np.array([1,2,3,4])\n",
    "ser_2 = pd.Series(arr_1)\n",
    "\n",
    "dict_1 = {\"f_name\":\"Derek\", \"l_name\": \"Banas\",\"age\":24}\n",
    "ser_3 = pd.Series(dict_1)\n",
    "ser_3[\"f_name\"]\n",
    "\n",
    "ser_2 / ser_3\n",
    "\n",
    "np.exp(ser_2)\n",
    "\n",
    "ser_4 = pd.Series({4:5,5:6,6:7,7:8}, name=\"rand_nums\")\n",
    "ser_2 + ser_4\n",
    "ser_2"
   ]
  },
  {
   "cell_type": "code",
   "execution_count": null,
   "id": "d4d4868f-89d5-4ee5-a278-c3fe74a0f47d",
   "metadata": {},
   "outputs": [],
   "source": []
  }
 ],
 "metadata": {
  "kernelspec": {
   "display_name": "Python 3 (ipykernel)",
   "language": "python",
   "name": "python3"
  },
  "language_info": {
   "codemirror_mode": {
    "name": "ipython",
    "version": 3
   },
   "file_extension": ".py",
   "mimetype": "text/x-python",
   "name": "python",
   "nbconvert_exporter": "python",
   "pygments_lexer": "ipython3",
   "version": "3.11.7"
  }
 },
 "nbformat": 4,
 "nbformat_minor": 5
}
