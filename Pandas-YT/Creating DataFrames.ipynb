{
 "cells": [
  {
   "cell_type": "code",
   "execution_count": 17,
   "id": "993f736f-0d90-40e2-99b3-507e73e86b8c",
   "metadata": {},
   "outputs": [
    {
     "name": "stdout",
     "output_type": "stream",
     "text": [
      "Excersice 1\n",
      "    C   D   E\n",
      "A  36  30  38\n",
      "B  18  14  37\n",
      "\n",
      "Excersice 2\n",
      "   one  two\n",
      "a  1.0  1.0\n",
      "b  2.0  2.0\n",
      "c  3.0  3.0\n",
      "d  NaN  4.0\n"
     ]
    },
    {
     "data": {
      "text/html": [
       "<div>\n",
       "<style scoped>\n",
       "    .dataframe tbody tr th:only-of-type {\n",
       "        vertical-align: middle;\n",
       "    }\n",
       "\n",
       "    .dataframe tbody tr th {\n",
       "        vertical-align: top;\n",
       "    }\n",
       "\n",
       "    .dataframe thead th {\n",
       "        text-align: right;\n",
       "    }\n",
       "</style>\n",
       "<table border=\"1\" class=\"dataframe\">\n",
       "  <thead>\n",
       "    <tr style=\"text-align: right;\">\n",
       "      <th></th>\n",
       "      <th>A</th>\n",
       "      <th>B</th>\n",
       "    </tr>\n",
       "  </thead>\n",
       "  <tbody>\n",
       "    <tr>\n",
       "      <th>0</th>\n",
       "      <td>1</td>\n",
       "      <td>4</td>\n",
       "    </tr>\n",
       "    <tr>\n",
       "      <th>1</th>\n",
       "      <td>2</td>\n",
       "      <td>5</td>\n",
       "    </tr>\n",
       "    <tr>\n",
       "      <th>2</th>\n",
       "      <td>3</td>\n",
       "      <td>6</td>\n",
       "    </tr>\n",
       "  </tbody>\n",
       "</table>\n",
       "</div>"
      ],
      "text/plain": [
       "   A  B\n",
       "0  1  4\n",
       "1  2  5\n",
       "2  3  6"
      ]
     },
     "execution_count": 17,
     "metadata": {},
     "output_type": "execute_result"
    }
   ],
   "source": [
    "import pandas as pd\n",
    "import numpy as np\n",
    "\n",
    "print(\"Excersice 1\")\n",
    "arr_2 = np.random.randint(10,50, size=(2,3))\n",
    "df = pd.DataFrame(arr_2, [\"A\", \"B\"],[\"C\",\"D\",\"E\"])\n",
    "print(df)\n",
    "\n",
    "print()\n",
    "print(\"Excersice 2\")\n",
    "dict_3 = {\"one\": pd.Series([1.,2.,3.], index = [\"a\",\"b\",\"c\"]),\n",
    "          \"two\": pd.Series([1.,2.,3.,4.], index = [\"a\",\"b\",\"c\",\"d\"])}\n",
    "\n",
    "df_2 = pd.DataFrame(dict_3)\n",
    "print(df_2)\n",
    "\n",
    "pd.DataFrame.from_dict(dict([(\"A\",[1,2,3]),(\"B\",[4,5,6])]))"
   ]
  },
  {
   "cell_type": "code",
   "execution_count": null,
   "id": "e8190a88-0add-4083-85e1-33ce7be04ace",
   "metadata": {},
   "outputs": [],
   "source": []
  }
 ],
 "metadata": {
  "kernelspec": {
   "display_name": "Python 3 (ipykernel)",
   "language": "python",
   "name": "python3"
  },
  "language_info": {
   "codemirror_mode": {
    "name": "ipython",
    "version": 3
   },
   "file_extension": ".py",
   "mimetype": "text/x-python",
   "name": "python",
   "nbconvert_exporter": "python",
   "pygments_lexer": "ipython3",
   "version": "3.11.7"
  }
 },
 "nbformat": 4,
 "nbformat_minor": 5
}
