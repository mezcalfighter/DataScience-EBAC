{
 "cells": [
  {
   "cell_type": "code",
   "execution_count": 3,
   "id": "b9ccf18a-d082-4e77-8b4c-ce9e756a6cd9",
   "metadata": {},
   "outputs": [
    {
     "data": {
      "text/plain": [
       "array([23.183391  , 20.2020202 , 21.73650525])"
      ]
     },
     "execution_count": 3,
     "metadata": {},
     "output_type": "execute_result"
    }
   ],
   "source": [
    "# Calcular inidice de masa corporal  IMC = peso / (altura**2)\n",
    "import numpy as np\n",
    "\n",
    "np_alt = np.array([1.7,1.65,1.82])\n",
    "np_peso = np.array([67,55,72])\n",
    "\n",
    "bmi = np_peso / np_alt**2\n",
    "bmi"
   ]
  },
  {
   "cell_type": "code",
   "execution_count": 7,
   "id": "154fc83e-1038-4f27-a6a2-7a269a2ff547",
   "metadata": {},
   "outputs": [
    {
     "name": "stdout",
     "output_type": "stream",
     "text": [
      "------- Posiciones Positivas -------\n",
      "23.18339100346021\n",
      "20.202020202020204\n",
      "21.736505252988767\n",
      "------- Posiciones Negativas -------\n",
      "21.736505252988767\n",
      "20.202020202020204\n",
      "23.18339100346021\n"
     ]
    }
   ],
   "source": [
    "# Seleccion de datos con array numpy\n",
    "print(\"------- Posiciones Positivas -------\")\n",
    "print(bmi[0])\n",
    "print(bmi[1])\n",
    "print(bmi[2])\n",
    "\n",
    "print(\"------- Posiciones Negativas -------\")\n",
    "# O con valores negativos\n",
    "print(bmi[-1])\n",
    "print(bmi[-2])\n",
    "print(bmi[-3])"
   ]
  },
  {
   "cell_type": "code",
   "execution_count": 11,
   "id": "debd09d2-a231-4daa-937d-fbcadc5a4278",
   "metadata": {},
   "outputs": [
    {
     "name": "stdout",
     "output_type": "stream",
     "text": [
      "[ True False  True]\n"
     ]
    },
    {
     "data": {
      "text/plain": [
       "array([23.183391  , 21.73650525])"
      ]
     },
     "execution_count": 11,
     "metadata": {},
     "output_type": "execute_result"
    }
   ],
   "source": [
    "# Seleccionar todos los valores del arreglo que superan el numero 21\n",
    "print(bmi>21)\n",
    "bmi[bmi>21]"
   ]
  },
  {
   "cell_type": "code",
   "execution_count": 13,
   "id": "6c858dcd-1e37-4e90-86a3-4de56c297e4a",
   "metadata": {},
   "outputs": [
    {
     "name": "stdout",
     "output_type": "stream",
     "text": [
      "------- Total de Areas -------\n",
      "[15  8  4 28 24]\n",
      "------- Areas Mayores a 10 -------\n"
     ]
    },
    {
     "data": {
      "text/plain": [
       "array([15, 28, 24])"
      ]
     },
     "execution_count": 13,
     "metadata": {},
     "output_type": "execute_result"
    }
   ],
   "source": [
    "# Ejercicio, Calcular masivamente el area de 5 rectangulos y devolver unicamente aquellos con area > 10\n",
    "bases_rec = np.array([5,2,4,7,8])\n",
    "alturas_rec = np.array([3,4,1,4,3])\n",
    "\n",
    "areas = bases_rec * alturas_rec\n",
    "print(\"------- Total de Areas -------\")\n",
    "print(areas)\n",
    "\n",
    "print(\"------- Areas Mayores a 10 -------\")\n",
    "areas[areas>10]"
   ]
  },
  {
   "cell_type": "code",
   "execution_count": 17,
   "id": "9752cd60-648d-4d4a-b554-7846fa6a8f02",
   "metadata": {},
   "outputs": [
    {
     "name": "stdout",
     "output_type": "stream",
     "text": [
      "------- Listas -------\n",
      "[1, 2, 3, 4, 5, 6]\n",
      "------- Numpy Arrays -------\n",
      "[5 7 9]\n"
     ]
    }
   ],
   "source": [
    "# Diferencias entre listas y numpy arrays\n",
    "print(\"------- Listas -------\")\n",
    "a = [1,2,3]\n",
    "b = [4,5,6]\n",
    "print(a+b)\n",
    "\n",
    "print(\"------- Numpy Arrays -------\")\n",
    "a_numpy = np.array([1,2,3])\n",
    "b_numpy = np.array([4,5,6])\n",
    "print(a_numpy + b_numpy)"
   ]
  },
  {
   "cell_type": "code",
   "execution_count": 19,
   "id": "ee58ec79-0e52-4323-9a58-5f18fe1df508",
   "metadata": {},
   "outputs": [
    {
     "data": {
      "text/plain": [
       "array([[ 2,  7,  8],\n",
       "       [ 4,  8, 10]])"
      ]
     },
     "execution_count": 19,
     "metadata": {},
     "output_type": "execute_result"
    }
   ],
   "source": [
    "# Arrays 2D en Numpy\n",
    "# Sintaxis nombre_array = np.array([[valores fila 1], [valores fila 2], [valores fila 3],  ...])\n",
    "# Matrices ejemplo\n",
    "np_2d = np.array([[2,7,8],[4,8,10]])\n",
    "np_2d"
   ]
  },
  {
   "cell_type": "code",
   "execution_count": 23,
   "id": "3e320409-6410-46dc-a1ba-256af4b4011b",
   "metadata": {},
   "outputs": [
    {
     "data": {
      "text/plain": [
       "8"
      ]
     },
     "execution_count": 23,
     "metadata": {},
     "output_type": "execute_result"
    }
   ],
   "source": [
    "# Para extraer valores, se usa igual que python core, osea array[pos1,pos2]\n",
    "# Extrae el 8\n",
    "np_2d[1,1]"
   ]
  },
  {
   "cell_type": "code",
   "execution_count": 25,
   "id": "66b0d0f8-3756-4ffd-bfa4-c84394b35da7",
   "metadata": {},
   "outputs": [
    {
     "data": {
      "text/plain": [
       "array([[2, 7],\n",
       "       [4, 8]])"
      ]
     },
     "execution_count": 25,
     "metadata": {},
     "output_type": "execute_result"
    }
   ],
   "source": [
    "# Extrae todas las filas pero solo columna 1 y 2\n",
    "np_2d[:,0:2]"
   ]
  },
  {
   "cell_type": "code",
   "execution_count": 27,
   "id": "77d5aa70-6f7f-49ac-9155-0bfd8c15c224",
   "metadata": {},
   "outputs": [
    {
     "data": {
      "text/plain": [
       "array([12. , 13.5, 13. , 14. , 13.2, 14.8, 15. , 15.6, 16. , 16.2, 15.7,\n",
       "       17. , 17.2, 16.8, 14. , 14.2, 14.7, 16. , 17.5, 19. ])"
      ]
     },
     "execution_count": 27,
     "metadata": {},
     "output_type": "execute_result"
    }
   ],
   "source": [
    "# Calculo estadistico con Numpy\n",
    "temp = np.array([12,13.5,13,14,13.2,14.8,15,15.6,16,16.2,15.7,17,17.2,16.8,14,14.2,14.7,16,17.5,19])\n",
    "temp"
   ]
  },
  {
   "cell_type": "code",
   "execution_count": 31,
   "id": "530baca3-3c82-4cf5-890b-47900219fab8",
   "metadata": {},
   "outputs": [
    {
     "name": "stdout",
     "output_type": "stream",
     "text": [
      "15.27\n",
      "15.27\n"
     ]
    }
   ],
   "source": [
    "# Media\n",
    "print(temp.mean())\n",
    "print(np.mean(temp))"
   ]
  },
  {
   "cell_type": "code",
   "execution_count": 35,
   "id": "67101fa6-a12c-4792-b485-be02a0dd17c4",
   "metadata": {},
   "outputs": [
    {
     "name": "stdout",
     "output_type": "stream",
     "text": [
      "15.3\n"
     ]
    }
   ],
   "source": [
    "# Mediana\n",
    "print(np.median(temp))"
   ]
  },
  {
   "cell_type": "code",
   "execution_count": 37,
   "id": "536066c1-2390-4ff6-81f0-53e6682868c8",
   "metadata": {},
   "outputs": [
    {
     "name": "stdout",
     "output_type": "stream",
     "text": [
      "12.0\n",
      "19.0\n"
     ]
    }
   ],
   "source": [
    "# Minimo y Maximo\n",
    "print(np.min(temp))\n",
    "print(np.max(temp))"
   ]
  },
  {
   "cell_type": "code",
   "execution_count": 39,
   "id": "b10665b5-e771-4856-91c0-44879b219829",
   "metadata": {},
   "outputs": [
    {
     "name": "stdout",
     "output_type": "stream",
     "text": [
      "2.9211\n",
      "1.7091225819115492\n"
     ]
    }
   ],
   "source": [
    "# Varianza y Desviacion Estandar\n",
    "print(np.var(temp))\n",
    "print(np.std(temp))"
   ]
  },
  {
   "cell_type": "code",
   "execution_count": 41,
   "id": "397b0a03-c544-4dba-b9a3-9d259d8d8f3f",
   "metadata": {},
   "outputs": [
    {
     "name": "stdout",
     "output_type": "stream",
     "text": [
      "16.84\n"
     ]
    }
   ],
   "source": [
    "# Percentil\n",
    "print(np.percentile(temp,80))"
   ]
  },
  {
   "cell_type": "code",
   "execution_count": 43,
   "id": "af387670-1bba-4825-88a3-3c9544312402",
   "metadata": {},
   "outputs": [],
   "source": [
    "# Generar datos con numpy tomando como partida parametros estadisticos\n",
    "# nombre_array = np.random.normal(media, desviacion_estandar, numero de muestras)\n",
    "array_gaus = np.random.normal(2,0.5,1000)"
   ]
  },
  {
   "cell_type": "code",
   "execution_count": 51,
   "id": "9ecb9251-95ec-4228-b04d-2fd32d63aebd",
   "metadata": {},
   "outputs": [
    {
     "name": "stdout",
     "output_type": "stream",
     "text": [
      "3.0013607967811544\n",
      "1.5002217437382224\n",
      "[0.0009173093047096792, 6.001804284257599]\n"
     ]
    },
    {
     "data": {
      "text/plain": [
       "<matplotlib.collections.PathCollection at 0x7e33817ae410>"
      ]
     },
     "execution_count": 51,
     "metadata": {},
     "output_type": "execute_result"
    },
    {
     "data": {
      "image/png": "[encoded data removed]",
      "text/plain": [
       "<Figure size 640x480 with 1 Axes>"
      ]
     },
     "metadata": {},
     "output_type": "display_data"
    }
   ],
   "source": [
    "# Ejercicio - Crear distribucion gaussiana de 10,000 puntos con media 3 y desviacion estandar 1.5.\n",
    "#             Obtener el rango en el que se encuentran el 95% de nuestros valores\n",
    "new_gaus = np.random.normal(3,1.5,100000)\n",
    "\n",
    "#Imprime media\n",
    "media = np.mean(new_gaus)\n",
    "print(media)\n",
    "\n",
    "#Imprime desviacion\n",
    "desviacion = np.std(new_gaus)\n",
    "print(desviacion)\n",
    "\n",
    "# Rango 95\n",
    "rango_95 = [media - 2*desviacion, media + 2*desviacion]\n",
    "print(rango_95)\n",
    "\n",
    "import matplotlib.pyplot as plt\n",
    "import scipy.stats as stats\n",
    "plt.scatter(new_gaus, stats.norm.pdf(new_gaus, media, desviacion))"
   ]
  },
  {
   "cell_type": "code",
   "execution_count": null,
   "id": "2d895ffb-72fa-4414-a723-d62100e39c1c",
   "metadata": {},
   "outputs": [],
   "source": []
  }
 ],
 "metadata": {
  "kernelspec": {
   "display_name": "Python 3 (ipykernel)",
   "language": "python",
   "name": "python3"
  },
  "language_info": {
   "codemirror_mode": {
    "name": "ipython",
    "version": 3
   },
   "file_extension": ".py",
   "mimetype": "text/x-python",
   "name": "python",
   "nbconvert_exporter": "python",
   "pygments_lexer": "ipython3",
   "version": "3.11.7"
  }
 },
 "nbformat": 4,
 "nbformat_minor": 5
}
