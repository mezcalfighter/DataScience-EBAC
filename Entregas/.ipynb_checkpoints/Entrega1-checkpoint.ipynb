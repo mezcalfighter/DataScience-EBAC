{
 "cells": [
  {
   "cell_type": "code",
   "execution_count": 1,
   "id": "4f2b7174-327d-48f8-9e45-fb80040892eb",
   "metadata": {
    "tags": []
   },
   "outputs": [
    {
     "name": "stdin",
     "output_type": "stream",
     "text": [
      "Ingrese una frase a analizar:  El amor es una locura que ni el cura lo cura porque si el cura lo cura sería una locura del cura\n"
     ]
    },
    {
     "name": "stdout",
     "output_type": "stream",
     "text": [
      "La palabra 'El' se repite 1 instancia(s)\n",
      "La palabra 'amor' se repite 1 instancia(s)\n",
      "La palabra 'es' se repite 1 instancia(s)\n",
      "La palabra 'una' se repite 2 instancia(s)\n",
      "La palabra 'locura' se repite 2 instancia(s)\n",
      "La palabra 'que' se repite 1 instancia(s)\n",
      "La palabra 'ni' se repite 1 instancia(s)\n",
      "La palabra 'el' se repite 2 instancia(s)\n",
      "La palabra 'cura' se repite 5 instancia(s)\n",
      "La palabra 'lo' se repite 2 instancia(s)\n",
      "La palabra 'porque' se repite 1 instancia(s)\n",
      "La palabra 'si' se repite 1 instancia(s)\n",
      "La palabra 'sería' se repite 1 instancia(s)\n",
      "La palabra 'del' se repite 1 instancia(s)\n"
     ]
    }
   ],
   "source": [
    "phrase = input(\"Ingrese una frase a analizar: \")\n",
    "\n",
    "#It will separate each word from the fra\n",
    "phrase_words = phrase.split(\" \")\n",
    "\n",
    "#It will save all the individual incidences\n",
    "non_repeat = []\n",
    "\n",
    "#It will save all of the times one word is repeated\n",
    "incidences = {}\n",
    "\n",
    "#It will store each word individually in a list to know which words exist and add one per incident\n",
    "for word in phrase_words:\n",
    "    if word not in non_repeat:\n",
    "        non_repeat.append(word)\n",
    "        incidences[word] = 1\n",
    "    else:\n",
    "        incidences[word] += 1\n",
    "\n",
    "#It will show the number of times and incidence is appearing\n",
    "for word in non_repeat:\n",
    "    print(\"La palabra '{0}' se repite {1} instancia(s)\".format(word,incidences[word]))"
   ]
  },
  {
   "cell_type": "code",
   "execution_count": null,
   "id": "f132587b-93a7-495c-aea5-f8b47e92a9b0",
   "metadata": {},
   "outputs": [],
   "source": []
  }
 ],
 "metadata": {
  "kernelspec": {
   "display_name": "Python 3 (ipykernel)",
   "language": "python",
   "name": "python3"
  },
  "language_info": {
   "codemirror_mode": {
    "name": "ipython",
    "version": 3
   },
   "file_extension": ".py",
   "mimetype": "text/x-python",
   "name": "python",
   "nbconvert_exporter": "python",
   "pygments_lexer": "ipython3",
   "version": "3.11.5"
  }
 },
 "nbformat": 4,
 "nbformat_minor": 5
}
