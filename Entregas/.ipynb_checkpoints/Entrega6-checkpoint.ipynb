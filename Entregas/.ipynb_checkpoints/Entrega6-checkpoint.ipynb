{
 "cells": [
  {
   "cell_type": "code",
   "execution_count": 9,
   "id": "1b225ffe-431e-4cc4-a43f-a5b898defeff",
   "metadata": {},
   "outputs": [
    {
     "data": {
      "text/plain": [
       "array([20, 19, 18, 17, 16, 15, 14, 13, 12])"
      ]
     },
     "execution_count": 9,
     "metadata": {},
     "output_type": "execute_result"
    }
   ],
   "source": [
    "import numpy as np\n",
    "\n",
    "#Ejercicio 1\n",
    "array1 = np.array([12,13,14,15,16,17,18,19,20])\n",
    "np.flip(array1)"
   ]
  },
  {
   "cell_type": "code",
   "execution_count": 15,
   "id": "7ce2e393-523c-43eb-bc0a-6601d2432a40",
   "metadata": {},
   "outputs": [
    {
     "data": {
      "text/plain": [
       "array([-17.77777778, -11.11111111,   7.33888889,  37.72777778,\n",
       "         0.        ])"
      ]
     },
     "execution_count": 15,
     "metadata": {},
     "output_type": "execute_result"
    }
   ],
   "source": [
    "# Ejercicio 2\n",
    "fahrenheit = np.array([0.,12.,45.21,99.91,32])\n",
    "centigrados = (5 * (fahrenheit - 32)) / 9\n",
    "centigrados"
   ]
  },
  {
   "cell_type": "code",
   "execution_count": 23,
   "id": "c83a890f-49bd-4caf-ba1d-44b892bd8ba1",
   "metadata": {},
   "outputs": [
    {
     "data": {
      "text/plain": [
       "array([ 0, 10, 20, 30])"
      ]
     },
     "execution_count": 23,
     "metadata": {},
     "output_type": "execute_result"
    }
   ],
   "source": [
    "# Ejercicio 3\n",
    "array_1 = np.array([0,10,20])\n",
    "array_2 = np.array([20,10,30])\n",
    "\n",
    "new_arr = np.unique(np.concatenate((array_1,array_2)))\n",
    "new_arr"
   ]
  },
  {
   "cell_type": "code",
   "execution_count": null,
   "id": "7aaf2367-6df2-4df2-ad5a-cdc0f64917da",
   "metadata": {},
   "outputs": [],
   "source": []
  }
 ],
 "metadata": {
  "kernelspec": {
   "display_name": "Python 3 (ipykernel)",
   "language": "python",
   "name": "python3"
  },
  "language_info": {
   "codemirror_mode": {
    "name": "ipython",
    "version": 3
   },
   "file_extension": ".py",
   "mimetype": "text/x-python",
   "name": "python",
   "nbconvert_exporter": "python",
   "pygments_lexer": "ipython3",
   "version": "3.11.7"
  }
 },
 "nbformat": 4,
 "nbformat_minor": 5
}
