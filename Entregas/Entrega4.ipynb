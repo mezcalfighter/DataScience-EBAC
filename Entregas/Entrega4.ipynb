{
 "cells": [
  {
   "cell_type": "code",
   "execution_count": 1,
   "id": "f19358ce-df07-4657-9394-dca7816ca820",
   "metadata": {},
   "outputs": [
    {
     "name": "stdout",
     "output_type": "stream",
     "text": [
      "3\n",
      "4\n",
      "9\n",
      "58\n",
      "1994\n"
     ]
    }
   ],
   "source": [
    "class RomanNumeralConverter:\n",
    "    def __init__(self):\n",
    "        self.roman_to_value = {\n",
    "            'I': 1, 'V': 5, 'X': 10, 'L': 50,\n",
    "            'C': 100, 'D': 500, 'M': 1000\n",
    "        }\n",
    "    \n",
    "    def roman_to_int(self, s: str) -> int:\n",
    "        prev_value = 0\n",
    "        total = 0\n",
    "        \n",
    "        for char in reversed(s):\n",
    "            value = self.roman_to_value[char]\n",
    "            \n",
    "            if value < prev_value:\n",
    "                total -= value\n",
    "            else:\n",
    "                total += value\n",
    "            \n",
    "            prev_value = value\n",
    "        \n",
    "        return total\n",
    "\n",
    "# Test the class\n",
    "converter = RomanNumeralConverter()\n",
    "print(converter.roman_to_int('III'))    # Output: 3\n",
    "print(converter.roman_to_int('IV'))     # Output: 4\n",
    "print(converter.roman_to_int('IX'))     # Output: 9\n",
    "print(converter.roman_to_int('LVIII'))  # Output: 58\n",
    "print(converter.roman_to_int('MCMXCIV')) # Output: 1994"
   ]
  },
  {
   "cell_type": "code",
   "execution_count": null,
   "id": "8ac3c878-662a-4a6b-a3ba-cedb222d7522",
   "metadata": {},
   "outputs": [],
   "source": []
  }
 ],
 "metadata": {
  "kernelspec": {
   "display_name": "Python 3 (ipykernel)",
   "language": "python",
   "name": "python3"
  },
  "language_info": {
   "codemirror_mode": {
    "name": "ipython",
    "version": 3
   },
   "file_extension": ".py",
   "mimetype": "text/x-python",
   "name": "python",
   "nbconvert_exporter": "python",
   "pygments_lexer": "ipython3",
   "version": "3.11.7"
  }
 },
 "nbformat": 4,
 "nbformat_minor": 5
}
