{
 "cells": [
  {
   "cell_type": "code",
   "execution_count": 1,
   "id": "1ba8b67d-d3b3-4f1e-8dae-124b92468c35",
   "metadata": {},
   "outputs": [
    {
     "data": {
      "text/plain": [
       "'cba321'"
      ]
     },
     "execution_count": 1,
     "metadata": {},
     "output_type": "execute_result"
    }
   ],
   "source": [
    "def invierte_cadena(text):\n",
    "    inverted = \"\"\n",
    "    for number in range(1,len(text)+1):\n",
    "        pos = number * -1\n",
    "        inverted += text[pos]\n",
    "    return inverted\n",
    "\n",
    "invierte_cadena(\"123abc\")"
   ]
  },
  {
   "cell_type": "code",
   "execution_count": 31,
   "id": "ad30d177-2ddd-446f-9431-8540be5e501c",
   "metadata": {},
   "outputs": [
    {
     "data": {
      "text/plain": [
       "True"
      ]
     },
     "execution_count": 31,
     "metadata": {},
     "output_type": "execute_result"
    }
   ],
   "source": [
    "def prueba_primo(number):\n",
    "    if number <= 3:\n",
    "        return True\n",
    "    elif number == 4:\n",
    "        return False\n",
    "    for num in range(3,number):\n",
    "        if number % num == 0:\n",
    "            return False\n",
    "    return True\n",
    "\n",
    "prueba_primo(7)"
   ]
  },
  {
   "cell_type": "code",
   "execution_count": null,
   "id": "98a7d8fa-da6f-4f10-bbdd-df179372d0bc",
   "metadata": {},
   "outputs": [],
   "source": []
  }
 ],
 "metadata": {
  "kernelspec": {
   "display_name": "Python 3 (ipykernel)",
   "language": "python",
   "name": "python3"
  },
  "language_info": {
   "codemirror_mode": {
    "name": "ipython",
    "version": 3
   },
   "file_extension": ".py",
   "mimetype": "text/x-python",
   "name": "python",
   "nbconvert_exporter": "python",
   "pygments_lexer": "ipython3",
   "version": "3.11.7"
  }
 },
 "nbformat": 4,
 "nbformat_minor": 5
}
