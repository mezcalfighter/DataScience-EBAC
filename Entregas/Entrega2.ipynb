{
 "cells": [
  {
   "cell_type": "code",
   "execution_count": 18,
   "id": "b2b8114f-d994-433c-9b95-e72bbcbc02e6",
   "metadata": {
    "tags": []
   },
   "outputs": [
    {
     "name": "stdin",
     "output_type": "stream",
     "text": [
      "Ingrese las horas y la tarifa. ej. 40 30.33:  41 30.33\n"
     ]
    },
    {
     "name": "stdout",
     "output_type": "stream",
     "text": [
      "Monto a pagar:  1246.5629999999999\n"
     ]
    }
   ],
   "source": [
    "hours, fare = input(\"Ingrese las horas y la tarifa. ej. 40 30.33: \").split(\" \")\n",
    "try:\n",
    "    if int(hours) <= 40:\n",
    "        paycheck = int(hours) * float(fare)\n",
    "        print(\"Monto a pagar: \", paycheck)\n",
    "    elif int(hours) > 40 and int(hours) <= 50:\n",
    "        net = 40 * float(fare)\n",
    "        overtime_under_fifty = ((int(hours) - 40) * float(fare)) * 1.10\n",
    "        paycheck = net + overtime_under_fifty\n",
    "        print(\"Monto a pagar: \", paycheck)\n",
    "    elif int(hours) > 50:\n",
    "        net = 40 * float(fare)\n",
    "        overtime_under_fifty = (10 * float(fare)) * 1.10\n",
    "        overtime_over_fifty = ((int(hours) - 50) * float(fare)) * 1.20\n",
    "        paycheck = net + overtime_under_fifty + overtime_over_fifty\n",
    "        print(\"Monto a pagar: \", paycheck)\n",
    "except:\n",
    "    print(\"Intente de nuevo, formato invalido\")"
   ]
  },
  {
   "cell_type": "code",
   "execution_count": null,
   "id": "b0a8da61-df9a-4c9c-8f64-1b75d279c0fd",
   "metadata": {},
   "outputs": [],
   "source": []
  }
 ],
 "metadata": {
  "kernelspec": {
   "display_name": "Python 3 (ipykernel)",
   "language": "python",
   "name": "python3"
  },
  "language_info": {
   "codemirror_mode": {
    "name": "ipython",
    "version": 3
   },
   "file_extension": ".py",
   "mimetype": "text/x-python",
   "name": "python",
   "nbconvert_exporter": "python",
   "pygments_lexer": "ipython3",
   "version": "3.11.5"
  }
 },
 "nbformat": 4,
 "nbformat_minor": 5
}
