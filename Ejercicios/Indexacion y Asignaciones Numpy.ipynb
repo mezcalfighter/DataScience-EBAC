{
 "cells": [
  {
   "cell_type": "code",
   "execution_count": 1,
   "id": "6c6b39f7-b2a1-469f-b3e1-94feef2ef3fb",
   "metadata": {},
   "outputs": [],
   "source": [
    "import numpy as np"
   ]
  },
  {
   "cell_type": "code",
   "execution_count": 3,
   "id": "356f3fdb-7bfa-45ab-8907-f674173b03f7",
   "metadata": {},
   "outputs": [
    {
     "data": {
      "text/plain": [
       "array([0, 1, 2, 3, 4, 5, 6, 7, 8, 9])"
      ]
     },
     "execution_count": 3,
     "metadata": {},
     "output_type": "execute_result"
    }
   ],
   "source": [
    "# Indexacion de un solo elemento\n",
    "x = np.arange(10)\n",
    "x"
   ]
  },
  {
   "cell_type": "code",
   "execution_count": 5,
   "id": "4837fbb1-989e-4559-9f79-76b5963a5223",
   "metadata": {},
   "outputs": [
    {
     "data": {
      "text/plain": [
       "2"
      ]
     },
     "execution_count": 5,
     "metadata": {},
     "output_type": "execute_result"
    }
   ],
   "source": [
    "# Extraccion de elementos en forma ascendente\n",
    "x[2]"
   ]
  },
  {
   "cell_type": "code",
   "execution_count": 7,
   "id": "c55e7197-9bd6-4df1-b1d2-f3fb7a025889",
   "metadata": {},
   "outputs": [
    {
     "data": {
      "text/plain": [
       "8"
      ]
     },
     "execution_count": 7,
     "metadata": {},
     "output_type": "execute_result"
    }
   ],
   "source": [
    "# Extraccion de elementos en forma descendente\n",
    "x[-2]"
   ]
  },
  {
   "cell_type": "code",
   "execution_count": 9,
   "id": "0987bdc5-3c33-46ce-b7f6-83b679837201",
   "metadata": {},
   "outputs": [
    {
     "data": {
      "text/plain": [
       "array([[0, 1, 2, 3, 4],\n",
       "       [5, 6, 7, 8, 9]])"
      ]
     },
     "execution_count": 9,
     "metadata": {},
     "output_type": "execute_result"
    }
   ],
   "source": [
    "x.shape = (2,5) #Conversion del arreglo a formato bidimentsional\n",
    "x"
   ]
  },
  {
   "cell_type": "code",
   "execution_count": 11,
   "id": "587c4346-650f-4e41-938b-68910f3ab4c6",
   "metadata": {},
   "outputs": [
    {
     "data": {
      "text/plain": [
       "8"
      ]
     },
     "execution_count": 11,
     "metadata": {},
     "output_type": "execute_result"
    }
   ],
   "source": [
    "# Extraccion del elemento con el indice 1 en el renglon e indice 3 en columna\n",
    "x[1,3]"
   ]
  },
  {
   "cell_type": "code",
   "execution_count": 13,
   "id": "167d882e-b6b0-4f97-9b59-9f9be408b13f",
   "metadata": {},
   "outputs": [
    {
     "data": {
      "text/plain": [
       "8"
      ]
     },
     "execution_count": 13,
     "metadata": {},
     "output_type": "execute_result"
    }
   ],
   "source": [
    "# Alternativa de extraccion del elemento con indice 1 en renglon e indice 3 en columna\n",
    "x[1][3]"
   ]
  },
  {
   "cell_type": "code",
   "execution_count": 15,
   "id": "a191fee4-4a73-40b5-836d-573a81044c9f",
   "metadata": {},
   "outputs": [
    {
     "data": {
      "text/plain": [
       "9"
      ]
     },
     "execution_count": 15,
     "metadata": {},
     "output_type": "execute_result"
    }
   ],
   "source": [
    "# Extraccion del elemento con indice 1 en renglon y primer elemento en forma descendente\n",
    "x[1,-1]"
   ]
  },
  {
   "cell_type": "code",
   "execution_count": 17,
   "id": "251312d3-4d87-4aa1-bb9c-aa25cac54c4b",
   "metadata": {},
   "outputs": [
    {
     "data": {
      "text/plain": [
       "array([0, 1, 2, 3, 4])"
      ]
     },
     "execution_count": 17,
     "metadata": {},
     "output_type": "execute_result"
    }
   ],
   "source": [
    "# Extraccion del renglon completo con indice 0 (al no especificar indice de columna)\n",
    "x[0]"
   ]
  },
  {
   "cell_type": "code",
   "execution_count": 21,
   "id": "75798fff-157c-4e75-aad3-d5d6e28801ab",
   "metadata": {},
   "outputs": [
    {
     "data": {
      "text/plain": [
       "array([1, 3, 5])"
      ]
     },
     "execution_count": 21,
     "metadata": {},
     "output_type": "execute_result"
    }
   ],
   "source": [
    "# Cortes en arreglos\n",
    "x = np.array([0,1,2,3,4,5,6,7,8,9])\n",
    "x[1:7:2]  #Formato: \"start:stop:step\""
   ]
  },
  {
   "cell_type": "code",
   "execution_count": 23,
   "id": "e9fe103f-53de-469f-bd95-df563847bcaa",
   "metadata": {},
   "outputs": [
    {
     "data": {
      "text/plain": [
       "array([8, 9])"
      ]
     },
     "execution_count": 23,
     "metadata": {},
     "output_type": "execute_result"
    }
   ],
   "source": [
    "# Corte del arreglo de adelante hacia atras, considerando dos elementos\n",
    "x[-2:10] "
   ]
  },
  {
   "cell_type": "code",
   "execution_count": 25,
   "id": "4ac1461e-3659-4672-974d-9e98c8b5258e",
   "metadata": {},
   "outputs": [
    {
     "data": {
      "text/plain": [
       "array([7, 6, 5, 4])"
      ]
     },
     "execution_count": 25,
     "metadata": {},
     "output_type": "execute_result"
    }
   ],
   "source": [
    "# Corte del arreglo de adelante hacia atras, iniciando tres posiciones a partir del final\n",
    "# y retrocediendo hasta tener como limite el numero 3\n",
    "x[-3:3:-1]"
   ]
  },
  {
   "cell_type": "code",
   "execution_count": 27,
   "id": "02d78fbb-0289-48ee-9d0f-0c21b68077de",
   "metadata": {},
   "outputs": [
    {
     "data": {
      "text/plain": [
       "array([10,  9,  8,  7,  6,  5,  4,  3,  2])"
      ]
     },
     "execution_count": 27,
     "metadata": {},
     "output_type": "execute_result"
    }
   ],
   "source": [
    "# Definicion de un nuevo arreglo\n",
    "# Creacion de un arreglo en forma descendente - del 10 al 1 (sin incluirlo) - con decrementos \n",
    "x = np.arange(10,1,-1) \n",
    "x"
   ]
  },
  {
   "cell_type": "code",
   "execution_count": 29,
   "id": "3d4cbfa0-1568-4cba-83bc-1f30ae874462",
   "metadata": {},
   "outputs": [
    {
     "data": {
      "text/plain": [
       "array([7, 7, 9, 2])"
      ]
     },
     "execution_count": 29,
     "metadata": {},
     "output_type": "execute_result"
    }
   ],
   "source": [
    "# Extraccion de elementos especificos del arreglo\n",
    "# Extraccion de elementos con incides 3,3,1,8\n",
    "x[np.array([3,3,1,8])]"
   ]
  },
  {
   "cell_type": "code",
   "execution_count": 31,
   "id": "837f252a-0cbc-4acf-94b8-92d2730eace0",
   "metadata": {},
   "outputs": [
    {
     "data": {
      "text/plain": [
       "array([7, 7, 4, 2])"
      ]
     },
     "execution_count": 31,
     "metadata": {},
     "output_type": "execute_result"
    }
   ],
   "source": [
    "# Extraccion de elementos con indices 3,3, -3 (descendente) y 8\n",
    "x[np.array([3,3,-3,8])]"
   ]
  },
  {
   "cell_type": "code",
   "execution_count": 33,
   "id": "3b24505b-aecb-4ef4-9b92-b64330550866",
   "metadata": {},
   "outputs": [
    {
     "data": {
      "text/plain": [
       "array([[ 0,  1,  2,  3,  4,  5,  6],\n",
       "       [ 7,  8,  9, 10, 11, 12, 13],\n",
       "       [14, 15, 16, 17, 18, 19, 20],\n",
       "       [21, 22, 23, 24, 25, 26, 27],\n",
       "       [28, 29, 30, 31, 32, 33, 34]])"
      ]
     },
     "execution_count": 33,
     "metadata": {},
     "output_type": "execute_result"
    }
   ],
   "source": [
    "# Extraccion basada en pares\n",
    "y = np.arange(35).reshape(5,7)\n",
    "y"
   ]
  },
  {
   "cell_type": "code",
   "execution_count": 35,
   "id": "ced86b88-2750-431d-af5c-a0be456c05f5",
   "metadata": {},
   "outputs": [
    {
     "data": {
      "text/plain": [
       "array([ 0, 15, 30])"
      ]
     },
     "execution_count": 35,
     "metadata": {},
     "output_type": "execute_result"
    }
   ],
   "source": [
    "# Extraccion de \"coordenadas\" (0,0), (2,1) y (4,2)\n",
    "y[np.array([0,2,4]),np.array([0,1,2])]"
   ]
  },
  {
   "cell_type": "code",
   "execution_count": 37,
   "id": "2231ab40-c844-4416-b3fb-173145565793",
   "metadata": {},
   "outputs": [
    {
     "data": {
      "text/plain": [
       "array([1, 2, 3, 4, 5, 6])"
      ]
     },
     "execution_count": 37,
     "metadata": {},
     "output_type": "execute_result"
    }
   ],
   "source": [
    "# Union de arreglos\n",
    "arr = np.concatenate(([1,2,3],[4,5,6]))\n",
    "arr"
   ]
  },
  {
   "cell_type": "code",
   "execution_count": 39,
   "id": "e877064e-e0c3-4134-bfbe-8a250f2fdc13",
   "metadata": {},
   "outputs": [
    {
     "data": {
      "text/plain": [
       "array([[1, 2, 3],\n",
       "       [4, 5, 6]])"
      ]
     },
     "execution_count": 39,
     "metadata": {},
     "output_type": "execute_result"
    }
   ],
   "source": [
    "# Apilado vertical de vectores\n",
    "np.stack(([1,2,3],[4,5,6]))"
   ]
  },
  {
   "cell_type": "code",
   "execution_count": 43,
   "id": "abc851af-ab3c-499c-8c64-c1ae550e8912",
   "metadata": {},
   "outputs": [
    {
     "data": {
      "text/plain": [
       "array([[1, 2, 3],\n",
       "       [4, 5, 6],\n",
       "       [1, 1, 1],\n",
       "       [2, 2, 2]])"
      ]
     },
     "execution_count": 43,
     "metadata": {},
     "output_type": "execute_result"
    }
   ],
   "source": [
    "# Concatenacion de matrices\n",
    "mat_1 = np.array([[1,2,3],[4,5,6]])\n",
    "mat_2 = np.array([[1,1,1],[2,2,2]])\n",
    "np.concatenate((mat_1,mat_2), axis=0)"
   ]
  },
  {
   "cell_type": "code",
   "execution_count": 45,
   "id": "e31bdad1-0e73-4c37-b890-fd32eee1d49b",
   "metadata": {},
   "outputs": [
    {
     "data": {
      "text/plain": [
       "array([[1, 2, 3, 1, 1, 1],\n",
       "       [4, 5, 6, 2, 2, 2]])"
      ]
     },
     "execution_count": 45,
     "metadata": {},
     "output_type": "execute_result"
    }
   ],
   "source": [
    "np.concatenate((mat_1,mat_2), axis=1)"
   ]
  },
  {
   "cell_type": "code",
   "execution_count": null,
   "id": "354b1756-53e6-4686-9df8-6fd9863798ca",
   "metadata": {},
   "outputs": [],
   "source": []
  }
 ],
 "metadata": {
  "kernelspec": {
   "display_name": "Python 3 (ipykernel)",
   "language": "python",
   "name": "python3"
  },
  "language_info": {
   "codemirror_mode": {
    "name": "ipython",
    "version": 3
   },
   "file_extension": ".py",
   "mimetype": "text/x-python",
   "name": "python",
   "nbconvert_exporter": "python",
   "pygments_lexer": "ipython3",
   "version": "3.11.7"
  }
 },
 "nbformat": 4,
 "nbformat_minor": 5
}
