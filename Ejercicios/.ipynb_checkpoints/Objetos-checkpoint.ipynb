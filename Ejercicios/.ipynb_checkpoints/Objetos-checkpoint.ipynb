{
 "cells": [
  {
   "cell_type": "code",
   "execution_count": 11,
   "id": "7773a95e-05b2-4ead-8c4c-02a5336b6c4e",
   "metadata": {},
   "outputs": [],
   "source": [
    "# Creacion Nueva Clase\n",
    "class Mi_clase:\n",
    "    pass"
   ]
  },
  {
   "cell_type": "code",
   "execution_count": 15,
   "id": "4c308e60-ce36-47ee-b955-6199883ef14d",
   "metadata": {},
   "outputs": [
    {
     "name": "stdout",
     "output_type": "stream",
     "text": [
      "5\n",
      "10\n"
     ]
    }
   ],
   "source": [
    "# Cracionn de un nuevo objeto\n",
    "objeto = Mi_clase\n",
    "objeto.x = 5\n",
    "objeto.y = 10\n",
    "\n",
    "print(objeto.x)\n",
    "print(objeto.y)"
   ]
  },
  {
   "cell_type": "code",
   "execution_count": 17,
   "id": "2d79c263-ea85-4e7d-9700-4cc54c0d624b",
   "metadata": {},
   "outputs": [
    {
     "name": "stdout",
     "output_type": "stream",
     "text": [
      "5\n",
      "10\n"
     ]
    }
   ],
   "source": [
    "# Creacion de una nueva clase con atributos iniciales\n",
    "class Mi_Clase:\n",
    "    x = 5\n",
    "    y = 10\n",
    "\n",
    "objeto = Mi_Clase()\n",
    "print(objeto.x)\n",
    "print(objeto.y)"
   ]
  },
  {
   "cell_type": "code",
   "execution_count": 23,
   "id": "4e27b046-8e43-4246-960c-9206ec6f753a",
   "metadata": {},
   "outputs": [
    {
     "name": "stdout",
     "output_type": "stream",
     "text": [
      "Hola buen dia\n"
     ]
    }
   ],
   "source": [
    "# Definicion Metodo para una clase\n",
    "class Aviso:\n",
    "    def saludar(self):\n",
    "        print(\"Hola buen dia\")\n",
    "\n",
    "texto = Aviso()\n",
    "texto.saludar()"
   ]
  },
  {
   "cell_type": "code",
   "execution_count": 26,
   "id": "d4294f20-ffb2-46c7-969f-becd4b6375da",
   "metadata": {},
   "outputs": [
    {
     "name": "stdout",
     "output_type": "stream",
     "text": [
      "True\n"
     ]
    }
   ],
   "source": [
    "# Definicion de una clase para almacenar los datos de estudiantes\n",
    "class Estudiante:\n",
    "    def aprobado(self):\n",
    "        if self.calif >= 60:\n",
    "            return True\n",
    "        else:\n",
    "            return False\n",
    "\n",
    "estudiante1 = Estudiante()\n",
    "estudiante1.nombre = \"Juan\"\n",
    "estudiante1.calif = 80\n",
    "aprobo1 = estudiante1.aprobado()\n",
    "print(aprobo1)"
   ]
  },
  {
   "cell_type": "code",
   "execution_count": 30,
   "id": "a8a5366d-47de-4762-908f-b831264ee8b0",
   "metadata": {},
   "outputs": [
    {
     "name": "stdout",
     "output_type": "stream",
     "text": [
      "False\n"
     ]
    }
   ],
   "source": [
    "estudiante2 = Estudiante()\n",
    "estudiante2.nombre = \"Pablo\"\n",
    "estudiante2.calif = 50\n",
    "aprobo2 = estudiante2.aprobado()\n",
    "print(aprobo2)"
   ]
  },
  {
   "cell_type": "code",
   "execution_count": 34,
   "id": "81885088-f95b-4e32-865e-9ffe7c1e7222",
   "metadata": {},
   "outputs": [],
   "source": [
    "# Manejo de un constructor\n",
    "class Estudiante:\n",
    "    def __init__(self,nombre,calif):\n",
    "        self.nombre = nombre\n",
    "        self.calif = calif\n",
    "        \n",
    "    def aprobado(self):\n",
    "        if self.calif >= 60:\n",
    "            return True\n",
    "        else:\n",
    "            return False"
   ]
  },
  {
   "cell_type": "code",
   "execution_count": 36,
   "id": "0be440e9-6728-432a-8459-a787ff74d936",
   "metadata": {},
   "outputs": [
    {
     "name": "stdout",
     "output_type": "stream",
     "text": [
      "Juan\n",
      "80\n"
     ]
    }
   ],
   "source": [
    "estudiante1 = Estudiante(\"Juan\",80)\n",
    "print(estudiante1.nombre)\n",
    "print(estudiante1.calif)"
   ]
  },
  {
   "cell_type": "code",
   "execution_count": null,
   "id": "8b25ef70-ea05-4dd4-9547-6bb44b227d26",
   "metadata": {},
   "outputs": [],
   "source": [
    "estudiante2 = Estudiante(\"Araceli\",50)\n",
    "print(estudiante2.nombre)\n",
    "print(estudiante2.calif)"
   ]
  },
  {
   "cell_type": "code",
   "execution_count": 38,
   "id": "65e808a6-2792-4860-84c2-7e199af448a6",
   "metadata": {},
   "outputs": [
    {
     "name": "stdout",
     "output_type": "stream",
     "text": [
      "True\n",
      "False\n"
     ]
    }
   ],
   "source": [
    "aprobo1 =  estudiante1.aprobado()\n",
    "aprobo2 = estudiante2.aprobado()\n",
    "print(aprobo1)\n",
    "print(aprobo2)"
   ]
  },
  {
   "cell_type": "code",
   "execution_count": 40,
   "id": "74eab773-cef5-4614-b1b8-c68fc2474a69",
   "metadata": {},
   "outputs": [
    {
     "name": "stdout",
     "output_type": "stream",
     "text": [
      "Parte real:  5\n",
      "Parte imaginaria:  7\n"
     ]
    }
   ],
   "source": [
    "# Desarrollar una clase en Python que le permita al usuario calcular la suma de dos numero completos\n",
    "# Nota: Un numero complejo se compone de una parte real y una imaginaria. De esta manera, la suma\n",
    "#       de dos numeros de este tipo considera la suma separada de sus partes\n",
    "class Complejo:\n",
    "    def __init__(self,real, imaginaria):\n",
    "        self.real = real\n",
    "        self.imaginaria = imaginaria\n",
    "    def agregar(self, numero):\n",
    "        real = self.real + numero.real\n",
    "        imaginaria = self.imaginaria + numero.imaginaria\n",
    "        resultado = Complejo(real, imaginaria)\n",
    "        return resultado\n",
    "\n",
    "numero1 = Complejo(2,3)\n",
    "numero2 = Complejo(3,4)\n",
    "\n",
    "suma = numero1.agregar(numero2)\n",
    "print(\"Parte real:\", suma.real)\n",
    "print(\"Parte imaginaria:\", suma.imaginaria)"
   ]
  },
  {
   "cell_type": "code",
   "execution_count": null,
   "id": "e93b7d35-9ce1-49ab-a68c-164af809b0f4",
   "metadata": {},
   "outputs": [],
   "source": [
    "# Para borrar los numeros\n",
    "del numero1"
   ]
  },
  {
   "cell_type": "code",
   "execution_count": 44,
   "id": "e929831b-2fc4-44cf-98fe-05beb0433f49",
   "metadata": {},
   "outputs": [
    {
     "name": "stdout",
     "output_type": "stream",
     "text": [
      "Hola, mi nombre es: Juan\n"
     ]
    }
   ],
   "source": [
    "# La referencia \"self\" puede tomar cualquier otra denominacion\n",
    "class Persona:\n",
    "    def __init__(objeto,nombre,edad):\n",
    "        objeto.nombre = nombre\n",
    "        objeto.edad = edad\n",
    "\n",
    "    def mensaje(objeto):\n",
    "        print(\"Hola, mi nombre es: \" + objeto.nombre)\n",
    "\n",
    "persona1 = Persona(\"Juan\",36)\n",
    "persona1.mensaje()"
   ]
  },
  {
   "cell_type": "code",
   "execution_count": 46,
   "id": "dbd5b645-8f3d-4c13-a71d-e72d84d37154",
   "metadata": {},
   "outputs": [
    {
     "name": "stdout",
     "output_type": "stream",
     "text": [
      "6\n"
     ]
    }
   ],
   "source": [
    "class Triangulo:\n",
    "    def __init__(self,a,b,c):\n",
    "        self.a = a\n",
    "        self.b = b\n",
    "        self.c = c\n",
    "        \n",
    "    def perim(self):\n",
    "        return self.a + self.b + self.c\n",
    "\n",
    "triangulo = Triangulo(1,2,3)\n",
    "print(triangulo.perim())"
   ]
  },
  {
   "cell_type": "code",
   "execution_count": 54,
   "id": "4d556568-83d4-4388-8dc1-bdb7bbba89e0",
   "metadata": {},
   "outputs": [
    {
     "name": "stdout",
     "output_type": "stream",
     "text": [
      "Sesion Experta\n"
     ]
    }
   ],
   "source": [
    "class Expertos:\n",
    "    def __init__(self):\n",
    "        self.texto = \"Sesion Experta\"\n",
    "\n",
    "    def imprime_texto(self):\n",
    "        print(self.texto)\n",
    "\n",
    "elemento = Expertos()\n",
    "elemento.imprime_texto()"
   ]
  },
  {
   "cell_type": "code",
   "execution_count": 56,
   "id": "be800df3-6eeb-4291-a3f6-422fd859fb53",
   "metadata": {},
   "outputs": [
    {
     "name": "stdout",
     "output_type": "stream",
     "text": [
      "Primer numero = 1000\n",
      "Segundo numero = 2000\n",
      "Adicion de dos numeros =  3000\n"
     ]
    }
   ],
   "source": [
    "class Adicion:\n",
    "    respuesta = 0\n",
    "\n",
    "    def __init__(self,primero,segundo):\n",
    "        self.primero = primero\n",
    "        self.segundo = segundo\n",
    "\n",
    "    def calcula(self):\n",
    "        self.respuesta = self.primero + self.segundo\n",
    "\n",
    "    def mostrar(self):\n",
    "        print(\"Primer numero = \" + str(self.primero))\n",
    "        print(\"Segundo numero = \" + str(self.segundo))\n",
    "        print(\"Adicion de dos numeros = \", str(self.respuesta))\n",
    "\n",
    "obj = Adicion(1000,2000)\n",
    "obj.calcula()\n",
    "obj.mostrar()"
   ]
  },
  {
   "cell_type": "code",
   "execution_count": 58,
   "id": "da7e5281-75ba-4a19-bebc-be20a0865bd7",
   "metadata": {},
   "outputs": [
    {
     "name": "stdout",
     "output_type": "stream",
     "text": [
      "Soy 26 tengo Manuel Sanchez anios y estudio Derecho\n"
     ]
    }
   ],
   "source": [
    "# Herencia Simple\n",
    "class Estudiante(object):                              #Clase \"Padre\" - tiene que venir con (object)\n",
    "    def __init__(self, edad, nombre):\n",
    "        self.nombre = nombre\n",
    "        self.edad = edad\n",
    "\n",
    "class Derecho(Estudiante):                             #Clase \"Hija\"\n",
    "    def presentarse(self):\n",
    "        print(f\"Soy {self.nombre} tengo {self.edad} anios y estudio Derecho\")\n",
    "\n",
    "Manuel = Derecho(\"Manuel Sanchez\", 26)\n",
    "Manuel.presentarse()"
   ]
  },
  {
   "cell_type": "code",
   "execution_count": 62,
   "id": "80bd2904-06a6-403c-b149-1c2b72f53bf2",
   "metadata": {},
   "outputs": [
    {
     "name": "stdout",
     "output_type": "stream",
     "text": [
      "Soy 26 tengo Manuel Sanchez anios y estudio Derecho\n",
      "Estudio en el Instituto de Leyes\n"
     ]
    }
   ],
   "source": [
    "# Herencia Multiple\n",
    "class Estudiante(object):                              #Clase \"Padre\" No. 1 - tiene que venir con (object)\n",
    "    def __init__(self, edad, nombre):\n",
    "        self.nombre = nombre\n",
    "        self.edad = edad\n",
    "\n",
    "class Instituto(object):                               #Clase \"Padre\" No. 2 - tiene que venir con (object)\n",
    "    def presentarInstituto(self):\n",
    "        print(\"Estudio en el Instituto de Leyes\")\n",
    "\n",
    "class Derecho(Estudiante, Instituto):                  #Clase \"Hija\"\n",
    "    def presentarse(self):\n",
    "        print(f\"Soy {self.nombre} tengo {self.edad} anios y estudio Derecho\")\n",
    "\n",
    "Manuel = Derecho(\"Manuel Sanchez\", 26)\n",
    "Manuel.presentarse()\n",
    "Manuel.presentarInstituto()"
   ]
  },
  {
   "cell_type": "code",
   "execution_count": 68,
   "id": "0bd92794-a659-40de-a678-53f160a4682a",
   "metadata": {},
   "outputs": [
    {
     "name": "stdout",
     "output_type": "stream",
     "text": [
      "50.2656\n",
      "7.5\n"
     ]
    }
   ],
   "source": [
    "class Figura(object):\n",
    "    def area(self):\n",
    "        pass\n",
    "\n",
    "class Circulo(Figura):\n",
    "    def __init__(self, radio=0):\n",
    "        self.radio = radio\n",
    "\n",
    "    def area(self):\n",
    "        return 3.1416 * (self.radio ** 2)\n",
    "\n",
    "class Triangulo(Figura):\n",
    "    def __init__(self,base=0,altura=0):\n",
    "        self.base = base\n",
    "        self.altura = altura\n",
    "\n",
    "    def area(self):\n",
    "        return (self.base * self.altura) / 2\n",
    "\n",
    "c = Circulo(4)\n",
    "print(c.area())\n",
    "\n",
    "t = Triangulo(3,5)\n",
    "print(t.area())"
   ]
  },
  {
   "cell_type": "code",
   "execution_count": null,
   "id": "0a3080a6-ad84-4f47-b4bb-96f1f788029d",
   "metadata": {},
   "outputs": [],
   "source": []
  }
 ],
 "metadata": {
  "kernelspec": {
   "display_name": "Python 3 (ipykernel)",
   "language": "python",
   "name": "python3"
  },
  "language_info": {
   "codemirror_mode": {
    "name": "ipython",
    "version": 3
   },
   "file_extension": ".py",
   "mimetype": "text/x-python",
   "name": "python",
   "nbconvert_exporter": "python",
   "pygments_lexer": "ipython3",
   "version": "3.11.7"
  }
 },
 "nbformat": 4,
 "nbformat_minor": 5
}
