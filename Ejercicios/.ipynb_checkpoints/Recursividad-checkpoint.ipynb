{
 "cells": [
  {
   "cell_type": "code",
   "execution_count": 1,
   "id": "25ea79d0-797d-4197-ac06-323941c4b7aa",
   "metadata": {},
   "outputs": [
    {
     "name": "stdout",
     "output_type": "stream",
     "text": [
      "1\n",
      "2\n",
      "3\n"
     ]
    }
   ],
   "source": [
    "def imprimir(x):\n",
    "    if x > 0:\n",
    "        imprimir(x-1)\n",
    "        print(x)\n",
    "imprimir(3)"
   ]
  },
  {
   "cell_type": "code",
   "execution_count": 5,
   "id": "3b97decc-992d-44e8-9493-2744270a6cfb",
   "metadata": {},
   "outputs": [
    {
     "name": "stdout",
     "output_type": "stream",
     "text": [
      "29\n"
     ]
    }
   ],
   "source": [
    "#Suma de una lista sin recursividad\n",
    "def suma(lista):\n",
    "    suma = 0\n",
    "    for i in range(0,len(lista)):\n",
    "        suma = suma + lista[i]\n",
    "    return suma\n",
    "\n",
    "print(suma([4,5,6,3,2,9]))"
   ]
  },
  {
   "cell_type": "code",
   "execution_count": 3,
   "id": "95498bb7-8d25-40f9-bd1c-69e23b2cfa17",
   "metadata": {},
   "outputs": [
    {
     "name": "stdout",
     "output_type": "stream",
     "text": [
      "29\n"
     ]
    }
   ],
   "source": [
    "#Version recursiva\n",
    "def suma(lista):\n",
    "    if len(lista) == 1:\n",
    "        return lista[0]\n",
    "    else:\n",
    "        return lista[0] + suma(lista[1:])\n",
    "print(suma([4,5,6,3,2,9]))"
   ]
  },
  {
   "cell_type": "code",
   "execution_count": 7,
   "id": "3e463c40-b8a8-4ea2-b729-f1723a6d13ce",
   "metadata": {},
   "outputs": [
    {
     "name": "stdout",
     "output_type": "stream",
     "text": [
      "3628800\n"
     ]
    }
   ],
   "source": [
    "def factorial(n):\n",
    "    if n == 1:\n",
    "        return 1\n",
    "    else:\n",
    "        return n * factorial(n-1)\n",
    "\n",
    "print(factorial(10))"
   ]
  },
  {
   "cell_type": "code",
   "execution_count": null,
   "id": "dc899d02-07c8-430d-b8f3-6176cf3bd0df",
   "metadata": {},
   "outputs": [],
   "source": []
  }
 ],
 "metadata": {
  "kernelspec": {
   "display_name": "Python 3 (ipykernel)",
   "language": "python",
   "name": "python3"
  },
  "language_info": {
   "codemirror_mode": {
    "name": "ipython",
    "version": 3
   },
   "file_extension": ".py",
   "mimetype": "text/x-python",
   "name": "python",
   "nbconvert_exporter": "python",
   "pygments_lexer": "ipython3",
   "version": "3.11.7"
  }
 },
 "nbformat": 4,
 "nbformat_minor": 5
}
