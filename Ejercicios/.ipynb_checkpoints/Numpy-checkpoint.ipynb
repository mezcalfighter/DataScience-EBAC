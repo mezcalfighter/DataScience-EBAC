{
 "cells": [
  {
   "cell_type": "code",
   "execution_count": 1,
   "id": "e4beaa35-4432-4820-a3b1-6ff628e06dca",
   "metadata": {},
   "outputs": [
    {
     "data": {
      "text/plain": [
       "array([1, 2, 3, 4, 5])"
      ]
     },
     "execution_count": 1,
     "metadata": {},
     "output_type": "execute_result"
    }
   ],
   "source": [
    "import numpy as np\n",
    "# Creacion de un arreglo a partir de una lista\n",
    "\n",
    "lista1 = [1,2,3,4,5]\n",
    "arreglo1 = np.array(lista1)\n",
    "arreglo1"
   ]
  },
  {
   "cell_type": "code",
   "execution_count": 3,
   "id": "f5444b18-6892-4efa-9f05-9c83dccb99e7",
   "metadata": {},
   "outputs": [
    {
     "data": {
      "text/plain": [
       "numpy.ndarray"
      ]
     },
     "execution_count": 3,
     "metadata": {},
     "output_type": "execute_result"
    }
   ],
   "source": [
    "type(arreglo1)"
   ]
  },
  {
   "cell_type": "code",
   "execution_count": 5,
   "id": "8f2a38af-9fcf-4aa8-970f-38965c117d43",
   "metadata": {},
   "outputs": [
    {
     "data": {
      "text/plain": [
       "array([[1, 2, 3],\n",
       "       [4, 5, 6],\n",
       "       [7, 8, 9]])"
      ]
     },
     "execution_count": 5,
     "metadata": {},
     "output_type": "execute_result"
    }
   ],
   "source": [
    "# Creacion de un arreglo a partir de una lista de listas\n",
    "lista2 = [\n",
    "    [1,2,3],\n",
    "    [4,5,6],\n",
    "    [7,8,9]\n",
    "]\n",
    "\n",
    "arreglo2 = np.array(lista2)\n",
    "arreglo2"
   ]
  },
  {
   "cell_type": "code",
   "execution_count": 7,
   "id": "f5d1ba31-f551-419d-942a-5bdc2aecb87f",
   "metadata": {},
   "outputs": [
    {
     "data": {
      "text/plain": [
       "['a', True, 1]"
      ]
     },
     "execution_count": 7,
     "metadata": {},
     "output_type": "execute_result"
    }
   ],
   "source": [
    "# Las listas pueden contener diversos tipos de datos\n",
    "lista = [\"a\",True,1]\n",
    "lista"
   ]
  },
  {
   "cell_type": "code",
   "execution_count": 9,
   "id": "7f4fdc6b-3de2-4995-8ed4-5d6e9add9f89",
   "metadata": {},
   "outputs": [
    {
     "data": {
      "text/plain": [
       "array(['a', 'True', '1'], dtype='<U21')"
      ]
     },
     "execution_count": 9,
     "metadata": {},
     "output_type": "execute_result"
    }
   ],
   "source": [
    "# Los arreglos solo pueden tener un mismo tipo de datos\n",
    "# Usan menos espacio en memoria\n",
    "arreglo = np.array(lista)\n",
    "arreglo # Solo se almacenaron textos"
   ]
  },
  {
   "cell_type": "code",
   "execution_count": 11,
   "id": "913e4270-f9f7-4d7b-9da3-250a0d024b39",
   "metadata": {},
   "outputs": [
    {
     "data": {
      "text/plain": [
       "array([[0., 0., 0., 0.],\n",
       "       [0., 0., 0., 0.],\n",
       "       [0., 0., 0., 0.],\n",
       "       [0., 0., 0., 0.],\n",
       "       [0., 0., 0., 0.]])"
      ]
     },
     "execution_count": 11,
     "metadata": {},
     "output_type": "execute_result"
    }
   ],
   "source": [
    "# Creacion de arreglos con ceros\n",
    "arreglo3 = np.zeros((5,4))\n",
    "arreglo3"
   ]
  },
  {
   "cell_type": "code",
   "execution_count": 15,
   "id": "f9584b7d-f986-474b-92c5-0a2df82a2623",
   "metadata": {},
   "outputs": [
    {
     "data": {
      "text/plain": [
       "array([[0.47117689, 0.29169998],\n",
       "       [0.33737882, 0.32792756],\n",
       "       [0.22551357, 0.81001406]])"
      ]
     },
     "execution_count": 15,
     "metadata": {},
     "output_type": "execute_result"
    }
   ],
   "source": [
    "# Creacion de arreglos con numeros aleatorios uniformes entre 0 y 1\n",
    "arreglo4 = np.random.random((3,2))\n",
    "arreglo4"
   ]
  },
  {
   "cell_type": "code",
   "execution_count": 17,
   "id": "21c59363-6288-4511-bab1-4e874196fc14",
   "metadata": {},
   "outputs": [
    {
     "data": {
      "text/plain": [
       "array([-2, -1,  0,  1,  2,  3,  4,  5,  6])"
      ]
     },
     "execution_count": 17,
     "metadata": {},
     "output_type": "execute_result"
    }
   ],
   "source": [
    "# Creacion de arreglos en un rango\n",
    "np.arange(-2,7)"
   ]
  },
  {
   "cell_type": "code",
   "execution_count": 19,
   "id": "fd4f0bc6-aa5e-4545-9da2-e9347a16f49b",
   "metadata": {},
   "outputs": [
    {
     "data": {
      "text/plain": [
       "array([0, 1, 2, 3, 4])"
      ]
     },
     "execution_count": 19,
     "metadata": {},
     "output_type": "execute_result"
    }
   ],
   "source": [
    "np.arange(5)"
   ]
  },
  {
   "cell_type": "code",
   "execution_count": 23,
   "id": "2c9fbf3d-b8c6-430c-b904-a4493de4e233",
   "metadata": {},
   "outputs": [
    {
     "data": {
      "text/plain": [
       "array([[[1, 2],\n",
       "        [5, 7]],\n",
       "\n",
       "       [[8, 9],\n",
       "        [5, 7]],\n",
       "\n",
       "       [[1, 2],\n",
       "        [5, 7]]])"
      ]
     },
     "execution_count": 23,
     "metadata": {},
     "output_type": "execute_result"
    }
   ],
   "source": [
    "# Ejercicio Generar un arreglo tri-dimensional random\n",
    "arreglo1 = np.array([[1,2],\n",
    "                    [5,7]])\n",
    "arreglo2 = np.array([[8,9],\n",
    "                    [5,7]])\n",
    "arreglo3 = np.array([[1,2],\n",
    "                    [5,7]])\n",
    "\n",
    "arreglo3D = np.array([arreglo1,arreglo2,arreglo3])\n",
    "arreglo3D"
   ]
  },
  {
   "cell_type": "code",
   "execution_count": 27,
   "id": "3b95b79a-6cc5-45f6-9dea-4bb75571b996",
   "metadata": {},
   "outputs": [
    {
     "data": {
      "text/plain": [
       "(5, 4)"
      ]
     },
     "execution_count": 27,
     "metadata": {},
     "output_type": "execute_result"
    }
   ],
   "source": [
    "arreglo3 = np.zeros((5,4))\n",
    "arreglo3.shape"
   ]
  },
  {
   "cell_type": "code",
   "execution_count": 29,
   "id": "227ba30e-7a7d-409c-8211-54582385c43e",
   "metadata": {},
   "outputs": [
    {
     "data": {
      "text/plain": [
       "array([[1, 2, 3],\n",
       "       [4, 5, 6],\n",
       "       [7, 8, 9]])"
      ]
     },
     "execution_count": 29,
     "metadata": {},
     "output_type": "execute_result"
    }
   ],
   "source": [
    "# Conversion de un arreglo multi-dimensional a uni-dimensional\n",
    "lista2 = [[1,2,3],\n",
    "          [4,5,6],\n",
    "          [7,8,9]]\n",
    "\n",
    "arreglo2 = np.array(lista2)\n",
    "arreglo2"
   ]
  },
  {
   "cell_type": "code",
   "execution_count": 31,
   "id": "6b69a128-dc68-4255-8f51-d89930c1eed0",
   "metadata": {},
   "outputs": [
    {
     "data": {
      "text/plain": [
       "array([1, 2, 3, 4, 5, 6, 7, 8, 9])"
      ]
     },
     "execution_count": 31,
     "metadata": {},
     "output_type": "execute_result"
    }
   ],
   "source": [
    "arreglo2.flatten()"
   ]
  },
  {
   "cell_type": "code",
   "execution_count": 35,
   "id": "a63e0e90-8190-4a03-9bc0-18b56fe1674b",
   "metadata": {},
   "outputs": [
    {
     "data": {
      "text/plain": [
       "array([[1, 2, 3],\n",
       "       [4, 5, 6]])"
      ]
     },
     "execution_count": 35,
     "metadata": {},
     "output_type": "execute_result"
    }
   ],
   "source": [
    "# Cambio de dimension de un arreglo\n",
    "\n",
    "arreglo = np.array([[1,2],\n",
    "                    [3,4],\n",
    "                    [5,6]])\n",
    "\n",
    "arreglo.reshape(2,3)"
   ]
  },
  {
   "cell_type": "code",
   "execution_count": 37,
   "id": "4acef765-c96a-48fe-b042-105e8953d936",
   "metadata": {},
   "outputs": [
    {
     "ename": "ValueError",
     "evalue": "cannot reshape array of size 6 into shape (3,3)",
     "output_type": "error",
     "traceback": [
      "\u001b[0;31m---------------------------------------------------------------------------\u001b[0m",
      "\u001b[0;31mValueError\u001b[0m                                Traceback (most recent call last)",
      "Cell \u001b[0;32mIn[37], line 2\u001b[0m\n\u001b[1;32m      1\u001b[0m \u001b[38;5;66;03m# Ejemplo de ERROR al momento de cambiar la dimension\u001b[39;00m\n\u001b[0;32m----> 2\u001b[0m arreglo\u001b[38;5;241m.\u001b[39mreshape(\u001b[38;5;241m3\u001b[39m,\u001b[38;5;241m3\u001b[39m)\n",
      "\u001b[0;31mValueError\u001b[0m: cannot reshape array of size 6 into shape (3,3)"
     ]
    }
   ],
   "source": [
    "# Ejemplo de ERROR al momento de cambiar la dimension\n",
    "arreglo.reshape(3,3)"
   ]
  },
  {
   "cell_type": "code",
   "execution_count": 45,
   "id": "fd77da3e-ee63-43c8-8fc6-336eb30e5bd3",
   "metadata": {},
   "outputs": [
    {
     "data": {
      "text/plain": [
       "dtype('float64')"
      ]
     },
     "execution_count": 45,
     "metadata": {},
     "output_type": "execute_result"
    }
   ],
   "source": [
    "#El Atributo dtype\n",
    "np.array([1.25,2.63,200.88]).dtype"
   ]
  },
  {
   "cell_type": "code",
   "execution_count": 41,
   "id": "1bb783c6-384e-4419-973d-c6330dde3867",
   "metadata": {},
   "outputs": [
    {
     "data": {
      "text/plain": [
       "dtype('int64')"
      ]
     },
     "execution_count": 41,
     "metadata": {},
     "output_type": "execute_result"
    }
   ],
   "source": [
    "np.array([[1,2,3],[4,5,6],[7,8,9]]).dtype"
   ]
  },
  {
   "cell_type": "code",
   "execution_count": 43,
   "id": "832acb33-06f8-4065-976d-e8d6482264d9",
   "metadata": {},
   "outputs": [
    {
     "data": {
      "text/plain": [
       "dtype('<U12')"
      ]
     },
     "execution_count": 43,
     "metadata": {},
     "output_type": "execute_result"
    }
   ],
   "source": [
    "np.array([\"Introduccion\",\"a\",\"la\",\"programacion\"]).dtype"
   ]
  },
  {
   "cell_type": "code",
   "execution_count": 47,
   "id": "e13f7192-fe54-4533-8aac-232321ddbee1",
   "metadata": {},
   "outputs": [
    {
     "data": {
      "text/plain": [
       "dtype('float32')"
      ]
     },
     "execution_count": 47,
     "metadata": {},
     "output_type": "execute_result"
    }
   ],
   "source": [
    "# Uso de dtype como argumento\n",
    "np.array([1.25,2.63,200.88], dtype=np.float32).dtype"
   ]
  },
  {
   "cell_type": "code",
   "execution_count": 49,
   "id": "3daf4751-aba2-46ec-bde2-bd5d10854cb7",
   "metadata": {},
   "outputs": [
    {
     "data": {
      "text/plain": [
       "dtype('bool')"
      ]
     },
     "execution_count": 49,
     "metadata": {},
     "output_type": "execute_result"
    }
   ],
   "source": [
    "# Cambio de tipo de arreglo\n",
    "arreglo_booleano = np.array([[True,False]], dtype=np.bool_)\n",
    "arreglo_booleano.dtype"
   ]
  },
  {
   "cell_type": "code",
   "execution_count": 51,
   "id": "04056ae6-916b-47f5-bf1e-42a0549681e2",
   "metadata": {},
   "outputs": [
    {
     "data": {
      "text/plain": [
       "array([[1, 0]], dtype=int32)"
      ]
     },
     "execution_count": 51,
     "metadata": {},
     "output_type": "execute_result"
    }
   ],
   "source": [
    "arreglo = arreglo_booleano.astype(np.int32)\n",
    "arreglo"
   ]
  },
  {
   "cell_type": "code",
   "execution_count": 53,
   "id": "93f5f846-bfca-4f71-9533-e8c4a7e3c05f",
   "metadata": {},
   "outputs": [
    {
     "data": {
      "text/plain": [
       "dtype('float64')"
      ]
     },
     "execution_count": 53,
     "metadata": {},
     "output_type": "execute_result"
    }
   ],
   "source": [
    "# Homologacion del tipo por jerarquia\n",
    "\n",
    "np.array([0,50,50.8]).dtype"
   ]
  },
  {
   "cell_type": "code",
   "execution_count": 55,
   "id": "34d1d6e3-4919-4a27-890f-99d9d952ce54",
   "metadata": {},
   "outputs": [
    {
     "data": {
      "text/plain": [
       "dtype('int64')"
      ]
     },
     "execution_count": 55,
     "metadata": {},
     "output_type": "execute_result"
    }
   ],
   "source": [
    "np.array([False,42]).dtype"
   ]
  },
  {
   "cell_type": "code",
   "execution_count": null,
   "id": "e6d3ce7e-c4b4-4d7d-ab20-c297982ad009",
   "metadata": {},
   "outputs": [],
   "source": []
  }
 ],
 "metadata": {
  "kernelspec": {
   "display_name": "Python 3 (ipykernel)",
   "language": "python",
   "name": "python3"
  },
  "language_info": {
   "codemirror_mode": {
    "name": "ipython",
    "version": 3
   },
   "file_extension": ".py",
   "mimetype": "text/x-python",
   "name": "python",
   "nbconvert_exporter": "python",
   "pygments_lexer": "ipython3",
   "version": "3.11.7"
  }
 },
 "nbformat": 4,
 "nbformat_minor": 5
}
