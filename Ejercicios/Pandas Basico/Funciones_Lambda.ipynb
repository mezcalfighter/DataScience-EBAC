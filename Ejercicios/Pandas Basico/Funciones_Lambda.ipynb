{
 "cells": [
  {
   "cell_type": "code",
   "execution_count": 1,
   "id": "37cd0623-5559-4bab-a6e7-31b6f0a7f221",
   "metadata": {},
   "outputs": [
    {
     "name": "stdout",
     "output_type": "stream",
     "text": [
      "16\n"
     ]
    }
   ],
   "source": [
    "#Funcion Tradicional\n",
    "def cuadrado(x):\n",
    "    return x ** 2\n",
    "\n",
    "print(cuadrado(4))"
   ]
  },
  {
   "cell_type": "code",
   "execution_count": 5,
   "id": "73b4c9c3-1da4-467c-aac3-d9606f5cbe24",
   "metadata": {},
   "outputs": [
    {
     "name": "stdout",
     "output_type": "stream",
     "text": [
      "25\n"
     ]
    }
   ],
   "source": [
    "#Funciones Lambda\n",
    "cuadrado = lambda x: x**2\n",
    "print(cuadrado(5))"
   ]
  },
  {
   "cell_type": "code",
   "execution_count": 7,
   "id": "6f6c6ba2-fa80-4b7c-b57f-9c83c807ed36",
   "metadata": {},
   "outputs": [
    {
     "name": "stdout",
     "output_type": "stream",
     "text": [
      "15\n"
     ]
    }
   ],
   "source": [
    "#Funcion Lambda con dos parametros\n",
    "suma = lambda x,y: x + y\n",
    "print(suma(7,8))"
   ]
  },
  {
   "cell_type": "code",
   "execution_count": 11,
   "id": "d923a4f7-238f-4842-b7b5-b4da87ae9d70",
   "metadata": {},
   "outputs": [
    {
     "data": {
      "text/plain": [
       "5"
      ]
     },
     "execution_count": 11,
     "metadata": {},
     "output_type": "execute_result"
    }
   ],
   "source": [
    "#Funciones Anonimas\n",
    "(lambda x,y: x+y)(2,3)"
   ]
  },
  {
   "cell_type": "code",
   "execution_count": 13,
   "id": "14a4d487-595f-48e4-bb38-b77107c94428",
   "metadata": {},
   "outputs": [
    {
     "name": "stdout",
     "output_type": "stream",
     "text": [
      "El doble del numero 15 es:  30\n"
     ]
    }
   ],
   "source": [
    "def Calcula(n):\n",
    "    return lambda x: x * n\n",
    "resultado = Calcula(2)\n",
    "print(\"El doble del numero 15 es: \", resultado(15))"
   ]
  },
  {
   "cell_type": "code",
   "execution_count": 19,
   "id": "dea11ac7-09dd-418f-9402-774f2f0d0967",
   "metadata": {},
   "outputs": [
    {
     "name": "stdout",
     "output_type": "stream",
     "text": [
      "True\n",
      "False\n"
     ]
    }
   ],
   "source": [
    "Inicia_con = lambda texto, x: True if  x.startswith(texto) else False\n",
    "print(Inicia_con(\"P\",\"Python\"))\n",
    "print(Inicia_con(\"R\",\"Python\"))"
   ]
  }
 ],
 "metadata": {
  "kernelspec": {
   "display_name": "Python 3 (ipykernel)",
   "language": "python",
   "name": "python3"
  },
  "language_info": {
   "codemirror_mode": {
    "name": "ipython",
    "version": 3
   },
   "file_extension": ".py",
   "mimetype": "text/x-python",
   "name": "python",
   "nbconvert_exporter": "python",
   "pygments_lexer": "ipython3",
   "version": "3.11.7"
  }
 },
 "nbformat": 4,
 "nbformat_minor": 5
}
