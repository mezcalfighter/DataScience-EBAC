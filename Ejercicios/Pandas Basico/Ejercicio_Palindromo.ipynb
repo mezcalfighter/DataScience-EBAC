{
 "cells": [
  {
   "cell_type": "code",
   "execution_count": 1,
   "id": "b4cad2c3-b2f0-4205-970a-1b0b3af6ed9f",
   "metadata": {},
   "outputs": [
    {
     "name": "stdout",
     "output_type": "stream",
     "text": [
      "True\n",
      "False\n",
      "False\n"
     ]
    }
   ],
   "source": [
    "def Palindromo(cadena):\n",
    "    izquierda = 0\n",
    "    derecha = len(cadena)-1\n",
    "    while derecha >= izquierda:\n",
    "        if not(cadena[izquierda] == cadena[derecha]):\n",
    "            return False\n",
    "        izquierda += 1\n",
    "        derecha -= 1\n",
    "    return True\n",
    "\n",
    "print(Palindromo(\"rayar\")) #true\n",
    "print(Palindromo(\"raya\")) #false\n",
    "print(Palindromo(\"Rayar\")) #false"
   ]
  },
  {
   "cell_type": "code",
   "execution_count": 8,
   "id": "04132ad6-2213-4837-a09c-6192c114e67b",
   "metadata": {},
   "outputs": [
    {
     "name": "stdout",
     "output_type": "stream",
     "text": [
      "False\n",
      "False\n",
      "False\n"
     ]
    }
   ],
   "source": [
    "def Palindromo2(cadena):\n",
    "    izquierda = 0\n",
    "    derecha = len(cadena)-1\n",
    "    while derecha >= izquierda:\n",
    "        if not(cadena[izquierda].lower() == cadena[derecha].lower):\n",
    "            return False\n",
    "        izquierda += 1\n",
    "        derecha -= 1\n",
    "    return True\n",
    "\n",
    "print(Palindromo2(\"rayar\")) #true\n",
    "print(Palindromo2(\"raya\")) #false\n",
    "print(Palindromo2(\"Rayar\")) #true"
   ]
  }
 ],
 "metadata": {
  "kernelspec": {
   "display_name": "Python 3 (ipykernel)",
   "language": "python",
   "name": "python3"
  },
  "language_info": {
   "codemirror_mode": {
    "name": "ipython",
    "version": 3
   },
   "file_extension": ".py",
   "mimetype": "text/x-python",
   "name": "python",
   "nbconvert_exporter": "python",
   "pygments_lexer": "ipython3",
   "version": "3.11.7"
  }
 },
 "nbformat": 4,
 "nbformat_minor": 5
}
