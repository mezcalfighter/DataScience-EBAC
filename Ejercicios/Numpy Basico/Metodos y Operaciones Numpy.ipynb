{
 "cells": [
  {
   "cell_type": "code",
   "execution_count": 1,
   "id": "a945b40f-8c57-47a6-a80a-babbfe671639",
   "metadata": {},
   "outputs": [],
   "source": [
    "import numpy as np\n",
    "\n",
    "accidentes = np.array([[0,1,1],\n",
    "                       [1,0,1],\n",
    "                       [1,3,2],\n",
    "                       [2,2,0]])"
   ]
  },
  {
   "cell_type": "code",
   "execution_count": 11,
   "id": "d7a8379f-4b84-4b76-878f-dfa8427ea027",
   "metadata": {},
   "outputs": [
    {
     "data": {
      "text/plain": [
       "14"
      ]
     },
     "execution_count": 11,
     "metadata": {},
     "output_type": "execute_result"
    }
   ],
   "source": [
    "# A) El numero total de accidentes durante los 4 anios\n",
    "accidentes.sum()"
   ]
  },
  {
   "cell_type": "code",
   "execution_count": 13,
   "id": "818a0ff7-9923-4e09-ab95-98c2f12be09c",
   "metadata": {},
   "outputs": [
    {
     "data": {
      "text/plain": [
       "array([4, 6, 4])"
      ]
     },
     "execution_count": 13,
     "metadata": {},
     "output_type": "execute_result"
    }
   ],
   "source": [
    "# B) El numero total de accidentes por area (por columna)\n",
    "accidentes.sum(axis=0)"
   ]
  },
  {
   "cell_type": "code",
   "execution_count": 17,
   "id": "aba18cf8-5cd4-406b-9d21-ac78791a78cb",
   "metadata": {},
   "outputs": [
    {
     "name": "stdout",
     "output_type": "stream",
     "text": [
      "[2 2 6 4]\n",
      "[[2]\n",
      " [2]\n",
      " [6]\n",
      " [4]]\n"
     ]
    }
   ],
   "source": [
    "# C) El numero total de accidentes por anio (Por renglon)\n",
    "print(accidentes.sum(axis=1))\n",
    "# Otro formato - Mantiene la orientacion de por renglon\n",
    "print(accidentes.sum(axis=1, keepdims=True))"
   ]
  },
  {
   "cell_type": "code",
   "execution_count": 19,
   "id": "2e0b361f-e127-4c1c-9942-8ec5aa7106c4",
   "metadata": {},
   "outputs": [
    {
     "name": "stdout",
     "output_type": "stream",
     "text": [
      "0\n",
      "3\n"
     ]
    }
   ],
   "source": [
    "# D) El numero maximo y minimo de accidentes por area y anio\n",
    "print(accidentes.min())\n",
    "print(accidentes.max())"
   ]
  },
  {
   "cell_type": "code",
   "execution_count": 21,
   "id": "6354be54-8831-461c-9746-3eca84b05fd0",
   "metadata": {},
   "outputs": [
    {
     "name": "stdout",
     "output_type": "stream",
     "text": [
      "1.1666666666666667\n"
     ]
    }
   ],
   "source": [
    "# E) El numero promedio de accidentes por area y anio\n",
    "print(accidentes.mean())"
   ]
  },
  {
   "cell_type": "code",
   "execution_count": 27,
   "id": "c22edcb3-6f50-46b6-ae28-74bc236dff40",
   "metadata": {},
   "outputs": [
    {
     "name": "stdout",
     "output_type": "stream",
     "text": [
      "2\n",
      "3\n",
      "1\n"
     ]
    }
   ],
   "source": [
    "# Determine la suma descrita en la imagen\n",
    "\n",
    "# Un ciclo en Python\n",
    "# Una funcion vectorizada de Numpy\n",
    "arreglo = np.array([[1,2,3],\n",
    "                    [4,5,6]])\n",
    "\n",
    "dimensiones = arreglo.shape\n",
    "print(dimensiones[0]) #Renglones\n",
    "print(dimensiones[1]) #Columnas\n",
    "print(arreglo[0][0])"
   ]
  },
  {
   "cell_type": "code",
   "execution_count": 31,
   "id": "936d94bf-1363-4a6b-97c3-aa722478200a",
   "metadata": {},
   "outputs": [
    {
     "name": "stdout",
     "output_type": "stream",
     "text": [
      "[[3. 3. 3.]\n",
      " [3. 3. 3.]]\n",
      "Tiempo total de ejecucion (Segs.) 0.004624605178833008\n"
     ]
    }
   ],
   "source": [
    "# A)\n",
    "import time\n",
    "\n",
    "inicio = time.time()\n",
    "\n",
    "arreglo_final = np.zeros((2,3))\n",
    "for renglon in range(dimensiones[0]):\n",
    "    for columna in range(dimensiones[1]):\n",
    "        arreglo_final[renglon][columna] = arreglo[renglon][columna] + 3\n",
    "print(arreglo_final)\n",
    "fin = time.time()\n",
    "print(\"Tiempo total de ejecucion (Segs.)\", fin - inicio)"
   ]
  },
  {
   "cell_type": "code",
   "execution_count": 35,
   "id": "fe187333-bcca-4c76-b9fa-0822fbe6aa63",
   "metadata": {},
   "outputs": [
    {
     "name": "stdout",
     "output_type": "stream",
     "text": [
      "[[4 5 6]\n",
      " [7 8 9]]\n",
      "Tiempo total de ejecucion (Segs.) 0.0007793903350830078\n"
     ]
    }
   ],
   "source": [
    "# B)\n",
    "import time\n",
    "inicio = time.time()\n",
    "\n",
    "arreglo_final = arreglo+3\n",
    "print(arreglo_final)\n",
    "fin = time.time()\n",
    "print(\"Tiempo total de ejecucion (Segs.)\", fin - inicio)"
   ]
  },
  {
   "cell_type": "code",
   "execution_count": 37,
   "id": "41ad78da-72fb-4dab-ad99-cad11944e811",
   "metadata": {},
   "outputs": [
    {
     "data": {
      "text/plain": [
       "array([[ 3,  6,  9],\n",
       "       [12, 15, 18]])"
      ]
     },
     "execution_count": 37,
     "metadata": {},
     "output_type": "execute_result"
    }
   ],
   "source": [
    "# Broadcasting\n",
    "arreglo_prod = arreglo * 3\n",
    "arreglo_prod"
   ]
  },
  {
   "cell_type": "code",
   "execution_count": 41,
   "id": "b9cc15a7-8071-4940-a08d-82e66d2c5bd3",
   "metadata": {},
   "outputs": [
    {
     "data": {
      "text/plain": [
       "array([[ 8, 10, 12],\n",
       "       [14, 16, 18]])"
      ]
     },
     "execution_count": 41,
     "metadata": {},
     "output_type": "execute_result"
    }
   ],
   "source": [
    "# Adicion de dos arreglos\n",
    "arreglo1 = np.array([[1,2,3],\n",
    "                     [4,5,6]])\n",
    "\n",
    "arreglo2 = np.array([[7,8,9],\n",
    "                     [10,11,12]])\n",
    "\n",
    "arreglo3 = arreglo1 + arreglo2\n",
    "arreglo3"
   ]
  },
  {
   "cell_type": "code",
   "execution_count": 43,
   "id": "1aa6fd33-fc21-434f-863d-fbb068cef3b3",
   "metadata": {},
   "outputs": [
    {
     "data": {
      "text/plain": [
       "array([[False, False,  True],\n",
       "       [ True,  True,  True]])"
      ]
     },
     "execution_count": 43,
     "metadata": {},
     "output_type": "execute_result"
    }
   ],
   "source": [
    "# Evalucion de condiciones\n",
    "arreglo1 = np.array([[1,2,3],\n",
    "                     [4,5,6]])\n",
    "\n",
    "arreglo1 > 2"
   ]
  },
  {
   "cell_type": "code",
   "execution_count": 47,
   "id": "cc087668-9b38-443c-b00e-077dbbd093da",
   "metadata": {},
   "outputs": [
    {
     "data": {
      "text/plain": [
       "False"
      ]
     },
     "execution_count": 47,
     "metadata": {},
     "output_type": "execute_result"
    }
   ],
   "source": [
    "# Las funciones de Python no estan vectorizadas de origen\n",
    "arreglo = np.array([\"Numpy\",\"maneja\",\"vectorizacion\"])\n",
    "len(arreglo) > 5"
   ]
  },
  {
   "cell_type": "code",
   "execution_count": 49,
   "id": "e03f93bd-799a-4582-bfff-fc43a9dc8593",
   "metadata": {},
   "outputs": [
    {
     "data": {
      "text/plain": [
       "array([ True,  True,  True])"
      ]
     },
     "execution_count": 49,
     "metadata": {},
     "output_type": "execute_result"
    }
   ],
   "source": [
    "# Transformacion para vectorizacion de la funcion \"len\"\n",
    "len_vectorizada = np.vectorize(len)\n",
    "len_vectorizada(arreglo) > 2"
   ]
  },
  {
   "cell_type": "code",
   "execution_count": 53,
   "id": "84233bce-b2b5-4ba2-a9ba-2222598a4c84",
   "metadata": {},
   "outputs": [
    {
     "data": {
      "text/plain": [
       "array([[0, 1, 2, 3, 4],\n",
       "       [5, 6, 7, 8, 9]])"
      ]
     },
     "execution_count": 53,
     "metadata": {},
     "output_type": "execute_result"
    }
   ],
   "source": [
    "# Broadcasting de renglones\n",
    "arreglo = np.arange(10).reshape((2,5))\n",
    "arreglo"
   ]
  },
  {
   "cell_type": "code",
   "execution_count": 55,
   "id": "1c5b947a-7d83-4235-b771-82f91191acfb",
   "metadata": {},
   "outputs": [
    {
     "data": {
      "text/plain": [
       "array([[ 0,  2,  4,  6,  8],\n",
       "       [ 5,  7,  9, 11, 13]])"
      ]
     },
     "execution_count": 55,
     "metadata": {},
     "output_type": "execute_result"
    }
   ],
   "source": [
    "arreglo + np.array([0,1,2,3,4])"
   ]
  },
  {
   "cell_type": "code",
   "execution_count": 59,
   "id": "f39437bd-503c-44a2-9b14-eef3889e43f1",
   "metadata": {},
   "outputs": [
    {
     "data": {
      "text/plain": [
       "array([[ 0,  1,  2,  3,  4],\n",
       "       [ 6,  7,  8,  9, 10]])"
      ]
     },
     "execution_count": 59,
     "metadata": {},
     "output_type": "execute_result"
    }
   ],
   "source": [
    "# Broadcasting de columnas\n",
    "arreglo = np.arange(10).reshape((2,5))\n",
    "arreglo + np.array([0,1]).reshape((2,1))"
   ]
  },
  {
   "cell_type": "code",
   "execution_count": 61,
   "id": "a20dfe02-0e53-4397-bf0e-889d17a5ff6c",
   "metadata": {},
   "outputs": [
    {
     "ename": "ValueError",
     "evalue": "operands could not be broadcast together with shapes (2,5) (2,) ",
     "output_type": "error",
     "traceback": [
      "\u001b[0;31m---------------------------------------------------------------------------\u001b[0m",
      "\u001b[0;31mValueError\u001b[0m                                Traceback (most recent call last)",
      "Cell \u001b[0;32mIn[61], line 3\u001b[0m\n\u001b[1;32m      1\u001b[0m \u001b[38;5;66;03m# Cuando no se cumple la regla de que el numero de columnas o renglones sea el mismo, entonces\u001b[39;00m\n\u001b[1;32m      2\u001b[0m \u001b[38;5;66;03m# da un error de ValueError: Operands could not be broadcast together with shapes (2,5) (2,)\u001b[39;00m\n\u001b[0;32m----> 3\u001b[0m arreglo \u001b[38;5;241m+\u001b[39m np\u001b[38;5;241m.\u001b[39marray([\u001b[38;5;241m0\u001b[39m,\u001b[38;5;241m1\u001b[39m])\n",
      "\u001b[0;31mValueError\u001b[0m: operands could not be broadcast together with shapes (2,5) (2,) "
     ]
    }
   ],
   "source": [
    "# Cuando no se cumple la regla de que el numero de columnas o renglones sea el mismo, entonces\n",
    "# da un error de ValueError: Operands could not be broadcast together with shapes (2,5) (2,)\n",
    "arreglo + np.array([0,1])"
   ]
  },
  {
   "cell_type": "code",
   "execution_count": 65,
   "id": "f25206b4-166b-4d84-93c7-f249addeb4f7",
   "metadata": {},
   "outputs": [
    {
     "data": {
      "text/plain": [
       "array([[4.3, 4.2, 4.1],\n",
       "       [2.3, 2.2, 2.1],\n",
       "       [1.3, 1.2, 1.1]])"
      ]
     },
     "execution_count": 65,
     "metadata": {},
     "output_type": "execute_result"
    }
   ],
   "source": [
    "# Voteo a un arreglo\n",
    "arreglo = np.array([[1.1,1.2,1.3],\n",
    "                    [2.1,2.2,2.3],\n",
    "                    [4.1,4.2,4.3]])\n",
    "\n",
    "np.flip(arreglo)"
   ]
  },
  {
   "cell_type": "code",
   "execution_count": 67,
   "id": "099d6881-a089-448c-89bd-347fdd67e3eb",
   "metadata": {},
   "outputs": [
    {
     "data": {
      "text/plain": [
       "array([[1.1, 2.1, 4.1],\n",
       "       [1.2, 2.2, 4.2],\n",
       "       [1.3, 2.3, 4.3]])"
      ]
     },
     "execution_count": 67,
     "metadata": {},
     "output_type": "execute_result"
    }
   ],
   "source": [
    "# Transposicion de un arreglo\n",
    "# Voteo a un arreglo\n",
    "arreglo = np.array([[1.1,1.2,1.3],\n",
    "                    [2.1,2.2,2.3],\n",
    "                    [4.1,4.2,4.3]])\n",
    "\n",
    "np.transpose(arreglo)"
   ]
  },
  {
   "cell_type": "code",
   "execution_count": 87,
   "id": "d04f2480-76b9-4e5c-9997-c774d556e02e",
   "metadata": {},
   "outputs": [
    {
     "data": {
      "text/plain": [
       "array([[ 5, 10],\n",
       "       [30, 40]])"
      ]
     },
     "execution_count": 87,
     "metadata": {},
     "output_type": "execute_result"
    }
   ],
   "source": [
    "# Ejercicio 1\n",
    "arreglo1 = np.array([[1,2],\n",
    "                     [3,4]])\n",
    "\n",
    "arreglo_mul = np.array([5,10]).reshape((2,1)) * arreglo1\n",
    "arreglo_mul"
   ]
  },
  {
   "cell_type": "code",
   "execution_count": 85,
   "id": "597624a4-db17-422a-bade-4aa14d195775",
   "metadata": {},
   "outputs": [
    {
     "data": {
      "text/plain": [
       "array([[4, 8],\n",
       "       [2, 6]])"
      ]
     },
     "execution_count": 85,
     "metadata": {},
     "output_type": "execute_result"
    }
   ],
   "source": [
    "# Ejercicio 2\n",
    "arreglo2 = np.array([[1,2],\n",
    "                     [3,4]])\n",
    "\n",
    "arreglo_res = np.array([5,10]) - arreglo2\n",
    "arreglo_res"
   ]
  },
  {
   "cell_type": "code",
   "execution_count": null,
   "id": "be6f5ff8-2369-4101-8f5f-e5b71ef27128",
   "metadata": {},
   "outputs": [],
   "source": []
  }
 ],
 "metadata": {
  "kernelspec": {
   "display_name": "Python 3 (ipykernel)",
   "language": "python",
   "name": "python3"
  },
  "language_info": {
   "codemirror_mode": {
    "name": "ipython",
    "version": 3
   },
   "file_extension": ".py",
   "mimetype": "text/x-python",
   "name": "python",
   "nbconvert_exporter": "python",
   "pygments_lexer": "ipython3",
   "version": "3.11.7"
  }
 },
 "nbformat": 4,
 "nbformat_minor": 5
}
